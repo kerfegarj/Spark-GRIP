{
 "cells": [
  {
   "cell_type": "markdown",
   "id": "a9ff1a7f",
   "metadata": {},
   "source": [
    "KERFEGAR SHAHVIR JUNGALWALA <br>Spark GRIP 2022"
   ]
  },
  {
   "cell_type": "markdown",
   "id": "1cacbeea",
   "metadata": {},
   "source": [
    "Task 3: Exploratory Data Analysis - Retail\n",
    "Problem Statement: Perform ‘Exploratory Data Analysis’ on dataset ‘SampleSuperstore’ This task is about Exploratory Data Analysis - Retail where the task focuses on a business manager who will try to find out weak areas where he can work to make more profit."
   ]
  },
  {
   "cell_type": "code",
   "execution_count": null,
   "id": "f5b23f35",
   "metadata": {},
   "outputs": [],
   "source": [
    "#importing necessary libraries\n",
    "import numpy as np\n",
    "import pandas as pd\n",
    "import matplotlib.pyplot as plt\n",
    "import seaborn as sns"
   ]
  },
  {
   "cell_type": "code",
   "execution_count": null,
   "id": "1f66b9eb",
   "metadata": {},
   "outputs": [],
   "source": [
    "#Loading the dataset\n",
    "df=pd.read_csv(r\"C:\\Users\\Admin\\Desktop\\Kerfegar\\Analytics&ML\\Projects\\SPARK GRIP Internship\\Task3\\Task3.csv\")\n",
    "df.head(5)"
   ]
  },
  {
   "cell_type": "code",
   "execution_count": null,
   "id": "be8f74b3",
   "metadata": {},
   "outputs": [],
   "source": [
    "df['Postal Code']=df[\"Postal Code\"].astype(\"object\")\n",
    "df.info()"
   ]
  },
  {
   "cell_type": "code",
   "execution_count": null,
   "id": "be241690",
   "metadata": {},
   "outputs": [],
   "source": [
    "#General Statistics\n",
    "df.describe()"
   ]
  },
  {
   "cell_type": "code",
   "execution_count": null,
   "id": "4412ce19",
   "metadata": {},
   "outputs": [],
   "source": [
    "#Checking for null values\n",
    "df.isnull().sum()"
   ]
  },
  {
   "cell_type": "code",
   "execution_count": null,
   "id": "92fad76d",
   "metadata": {},
   "outputs": [],
   "source": [
    "#Checking for duplicates\n",
    "df.duplicated().sum()"
   ]
  },
  {
   "cell_type": "code",
   "execution_count": null,
   "id": "f3406438",
   "metadata": {},
   "outputs": [],
   "source": [
    "df.nunique()"
   ]
  },
  {
   "cell_type": "code",
   "execution_count": null,
   "id": "d44b2580",
   "metadata": {},
   "outputs": [],
   "source": [
    "#Clearing Duplicates\n",
    "df.drop_duplicates(subset=None,keep='first',inplace=True)\n",
    "df.duplicated().sum()"
   ]
  },
  {
   "cell_type": "code",
   "execution_count": null,
   "id": "1513c6db",
   "metadata": {},
   "outputs": [],
   "source": [
    "#Deriving CoVariance matrix\n",
    "df.corr()"
   ]
  },
  {
   "cell_type": "code",
   "execution_count": null,
   "id": "2caa4a93",
   "metadata": {},
   "outputs": [],
   "source": [
    "#Deriving CoVariance matrix\n",
    "df.cov()"
   ]
  },
  {
   "cell_type": "code",
   "execution_count": null,
   "id": "d5917e83",
   "metadata": {
    "scrolled": true
   },
   "outputs": [],
   "source": [
    "#Plotting Heatmap\n",
    "sns.heatmap(df.corr())"
   ]
  },
  {
   "cell_type": "code",
   "execution_count": null,
   "id": "e5b1c653",
   "metadata": {},
   "outputs": [],
   "source": [
    "plt.figure(figsize=(20,5))\n",
    "sns.countplot(x=df[\"Sub-Category\"])\n"
   ]
  },
  {
   "cell_type": "code",
   "execution_count": null,
   "id": "aa1f1696",
   "metadata": {},
   "outputs": [],
   "source": [
    "sns.countplot(x=df['Ship Mode'])"
   ]
  },
  {
   "cell_type": "code",
   "execution_count": null,
   "id": "ade6e762",
   "metadata": {},
   "outputs": [],
   "source": [
    "sns.pairplot(df)"
   ]
  },
  {
   "cell_type": "code",
   "execution_count": null,
   "id": "8e363b1b",
   "metadata": {},
   "outputs": [],
   "source": [
    "maxp=df[df['Profit']>=(df['Profit'].quantile(0.95))].drop(['City','State','Postal Code','Region','Segment','Country'],axis=1)\n",
    "maxp.head(5)"
   ]
  },
  {
   "cell_type": "code",
   "execution_count": null,
   "id": "b46ddd02",
   "metadata": {},
   "outputs": [],
   "source": [
    "plt.figure(figsize=(10,10))\n",
    "sns.countplot(df[\"Ship Mode\"])"
   ]
  },
  {
   "cell_type": "code",
   "execution_count": null,
   "id": "2e55bc60",
   "metadata": {},
   "outputs": [],
   "source": [
    "plt.figure(figsize=(10,10))\n",
    "sns.countplot(df[\"Category\"])"
   ]
  },
  {
   "cell_type": "code",
   "execution_count": null,
   "id": "3c5c702a",
   "metadata": {},
   "outputs": [],
   "source": [
    "plt.figure(figsize=(30,10))\n",
    "sns.countplot(df[\"Sub-Category\"])"
   ]
  },
  {
   "cell_type": "code",
   "execution_count": null,
   "id": "ebda630d",
   "metadata": {},
   "outputs": [],
   "source": [
    "plt.figure(figsize=(30,10))\n",
    "sns.countplot(df[\"Sales\"])"
   ]
  },
  {
   "cell_type": "code",
   "execution_count": null,
   "id": "48057ea6",
   "metadata": {},
   "outputs": [],
   "source": [
    "plt.figure(figsize=(30,10))\n",
    "sns.countplot(df[\"Quantity\"])"
   ]
  },
  {
   "cell_type": "code",
   "execution_count": null,
   "id": "538f262f",
   "metadata": {},
   "outputs": [],
   "source": [
    "plt.figure(figsize=(30,10))\n",
    "sns.countplot(df[\"Discount\"])"
   ]
  }
 ],
 "metadata": {
  "kernelspec": {
   "display_name": "Python 3 (ipykernel)",
   "language": "python",
   "name": "python3"
  },
  "language_info": {
   "codemirror_mode": {
    "name": "ipython",
    "version": 3
   },
   "file_extension": ".py",
   "mimetype": "text/x-python",
   "name": "python",
   "nbconvert_exporter": "python",
   "pygments_lexer": "ipython3",
   "version": "3.9.12"
  }
 },
 "nbformat": 4,
 "nbformat_minor": 5
}
